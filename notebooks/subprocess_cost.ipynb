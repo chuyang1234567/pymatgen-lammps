{
 "cells": [
  {
   "cell_type": "code",
   "execution_count": 41,
   "metadata": {},
   "outputs": [],
   "source": [
    "import time\n",
    "\n",
    "def timing(f):\n",
    "    def wrap(*args):\n",
    "        time1 = time.time()\n",
    "        ret = f(*args)\n",
    "        time2 = time.time()\n",
    "        print('function took %0.3f ms' % ((time2-time1)*1000.0))\n",
    "        return ret\n",
    "    return wrap"
   ]
  },
  {
   "cell_type": "code",
   "execution_count": 58,
   "metadata": {
    "collapsed": true
   },
   "outputs": [],
   "source": [
    "import subprocess                                                                                                                                                                  \n",
    "                          \n",
    "@timing\n",
    "def run_as_calculator(n=3):                                                                                                                                                           \n",
    "    with open('/home/costrouc/scratch/lammps/simple/lammps.in', 'rb') as f:                                                                                                                                      \n",
    "        input_file = f.read()                                                                                                                                                      \n",
    "                                                                                                                                                                                   \n",
    "    process = subprocess.Popen(['lammps_ubuntu'], cwd='/home/costrouc/scratch/lammps/simple', stdin=subprocess.PIPE)#, stdout=subprocess.PIPE, stderr=subprocess.PIPE)                                           \n",
    "                                                                                                                                                                                   \n",
    "    for i in range(n):                                                                                                                                                           \n",
    "        process.stdin.write(input_file)                                                                                                                                            \n",
    "        process.stdin.flush()                                                                                                                                                      \n",
    "        process.stdin.write(b'\\nprint \"special----------------characters\"\\nclear\\n')                                                                                               \n",
    "    process.stdin.close()                                                                                                                                                          \n",
    "    process.wait()        "
   ]
  },
  {
   "cell_type": "code",
   "execution_count": 71,
   "metadata": {
    "collapsed": true
   },
   "outputs": [],
   "source": [
    "@timing\n",
    "def run_as_seperate_process(n=100):\n",
    "    for i in range(n):\n",
    "        process = subprocess.Popen(['lammps_ubuntu', '-i', '/home/costrouc/scratch/lammps/simple/lammps.in'], cwd='/home/costrouc/scratch/lammps/simple')                                                                                                                                                                                                                                                   \n",
    "        process.wait()"
   ]
  },
  {
   "cell_type": "code",
   "execution_count": 72,
   "metadata": {
    "collapsed": true
   },
   "outputs": [],
   "source": [
    "os.environ['PATH'] ='/home/costrouc/.local/bin:/usr/local/sbin:/usr/local/bin:/usr/sbin:/usr/bin:/sbin:/bin:/usr/games:/usr/local/games:/snap/bin'"
   ]
  },
  {
   "cell_type": "code",
   "execution_count": 73,
   "metadata": {},
   "outputs": [
    {
     "name": "stdout",
     "output_type": "stream",
     "text": [
      "function took 205.151 ms\n"
     ]
    }
   ],
   "source": [
    "run_as_calculator()"
   ]
  },
  {
   "cell_type": "code",
   "execution_count": 70,
   "metadata": {},
   "outputs": [
    {
     "name": "stdout",
     "output_type": "stream",
     "text": [
      "function took 956.524 ms\n"
     ]
    }
   ],
   "source": [
    "run_as_seperate_process()"
   ]
  },
  {
   "cell_type": "code",
   "execution_count": null,
   "metadata": {
    "collapsed": true
   },
   "outputs": [],
   "source": []
  }
 ],
 "metadata": {
  "kernelspec": {
   "display_name": "Python 3",
   "language": "python",
   "name": "python3"
  },
  "language_info": {
   "codemirror_mode": {
    "name": "ipython",
    "version": 3
   },
   "file_extension": ".py",
   "mimetype": "text/x-python",
   "name": "python",
   "nbconvert_exporter": "python",
   "pygments_lexer": "ipython3",
   "version": "3.6.1"
  }
 },
 "nbformat": 4,
 "nbformat_minor": 2
}
